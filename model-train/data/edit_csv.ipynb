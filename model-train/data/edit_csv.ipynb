{
 "cells": [
  {
   "cell_type": "code",
   "execution_count": 2,
   "metadata": {},
   "outputs": [],
   "source": [
    "import pandas as pd\n",
    "import os"
   ]
  },
  {
   "cell_type": "code",
   "execution_count": 3,
   "metadata": {},
   "outputs": [
    {
     "name": "stdout",
     "output_type": "stream",
     "text": [
      "course\n",
      "course_evaluation\n",
      "course_information\n",
      "misc\n",
      "small_talk\n",
      "greeting\n",
      "bored\n",
      "thank_you\n",
      "call\n",
      "map\n",
      "rule\n",
      "service\n"
     ]
    }
   ],
   "source": [
    "for intent1 in os.listdir(\"./raw\"):\n",
    "    print(intent1)\n",
    "    for intent2 in os.listdir(\"./raw/\"+intent1):\n",
    "        print(intent2)"
   ]
  },
  {
   "cell_type": "code",
   "execution_count": null,
   "metadata": {},
   "outputs": [],
   "source": []
  },
  {
   "cell_type": "code",
   "execution_count": 4,
   "metadata": {},
   "outputs": [
    {
     "data": {
      "text/html": [
       "<div>\n",
       "<style scoped>\n",
       "    .dataframe tbody tr th:only-of-type {\n",
       "        vertical-align: middle;\n",
       "    }\n",
       "\n",
       "    .dataframe tbody tr th {\n",
       "        vertical-align: top;\n",
       "    }\n",
       "\n",
       "    .dataframe thead th {\n",
       "        text-align: right;\n",
       "    }\n",
       "</style>\n",
       "<table border=\"1\" class=\"dataframe\">\n",
       "  <thead>\n",
       "    <tr style=\"text-align: right;\">\n",
       "      <th></th>\n",
       "      <th>Sentence</th>\n",
       "      <th>intent1</th>\n",
       "      <th>intent2</th>\n",
       "    </tr>\n",
       "  </thead>\n",
       "  <tbody>\n",
       "    <tr>\n",
       "      <th>0</th>\n",
       "      <td>안녕하세요</td>\n",
       "      <td>small_talk</td>\n",
       "      <td>greeting</td>\n",
       "    </tr>\n",
       "    <tr>\n",
       "      <th>1</th>\n",
       "      <td>하이</td>\n",
       "      <td>small_talk</td>\n",
       "      <td>greeting</td>\n",
       "    </tr>\n",
       "    <tr>\n",
       "      <th>2</th>\n",
       "      <td>심심해</td>\n",
       "      <td>small_talk</td>\n",
       "      <td>bored</td>\n",
       "    </tr>\n",
       "    <tr>\n",
       "      <th>3</th>\n",
       "      <td>고마왕</td>\n",
       "      <td>small_talk</td>\n",
       "      <td>thank_you</td>\n",
       "    </tr>\n",
       "    <tr>\n",
       "      <th>4</th>\n",
       "      <td>반가워요</td>\n",
       "      <td>small_talk</td>\n",
       "      <td>greeting</td>\n",
       "    </tr>\n",
       "    <tr>\n",
       "      <th>5</th>\n",
       "      <td>심심해</td>\n",
       "      <td>small_talk</td>\n",
       "      <td>bored</td>\n",
       "    </tr>\n",
       "    <tr>\n",
       "      <th>6</th>\n",
       "      <td>하이루 방가방가</td>\n",
       "      <td>small_talk</td>\n",
       "      <td>greeting</td>\n",
       "    </tr>\n",
       "    <tr>\n",
       "      <th>7</th>\n",
       "      <td>야야야야야야</td>\n",
       "      <td>small_talk</td>\n",
       "      <td>call</td>\n",
       "    </tr>\n",
       "    <tr>\n",
       "      <th>8</th>\n",
       "      <td>땡큐 베리머치</td>\n",
       "      <td>small_talk</td>\n",
       "      <td>thank_you</td>\n",
       "    </tr>\n",
       "    <tr>\n",
       "      <th>9</th>\n",
       "      <td>아리가또</td>\n",
       "      <td>small_talk</td>\n",
       "      <td>thank_you</td>\n",
       "    </tr>\n",
       "  </tbody>\n",
       "</table>\n",
       "</div>"
      ],
      "text/plain": [
       "   Sentence     intent1    intent2\n",
       "0     안녕하세요  small_talk   greeting\n",
       "1        하이  small_talk   greeting\n",
       "2       심심해  small_talk      bored\n",
       "3       고마왕  small_talk  thank_you\n",
       "4      반가워요  small_talk   greeting\n",
       "5       심심해  small_talk      bored\n",
       "6  하이루 방가방가  small_talk   greeting\n",
       "7    야야야야야야  small_talk       call\n",
       "8   땡큐 베리머치  small_talk  thank_you\n",
       "9      아리가또  small_talk  thank_you"
      ]
     },
     "execution_count": 4,
     "metadata": {},
     "output_type": "execute_result"
    }
   ],
   "source": [
    "general = pd.read_csv(\"./general.csv\", index_col=0)\n",
    "general"
   ]
  },
  {
   "cell_type": "code",
   "execution_count": 5,
   "metadata": {},
   "outputs": [],
   "source": [
    "general[general['intent2'] == 'greeting'].drop(\n",
    "    [\"intent1\", \"intent2\"], axis=1\n",
    "    ).to_csv(\"./raw/small_talk/greeting/1.csv\", index=False)\n",
    "general[general['intent2'] == 'bored'].drop(\n",
    "    [\"intent1\", \"intent2\"], axis=1\n",
    "    ).to_csv(\"./raw/small_talk/bored/1.csv\", index=False)\n",
    "general[general['intent2'] == 'call'].drop(\n",
    "    [\"intent1\", \"intent2\"], axis=1\n",
    "    ).to_csv(\"./raw/small_talk/call/1.csv\", index=False)\n",
    "general[general['intent2'] == 'thank_you'].drop(\n",
    "    [\"intent1\", \"intent2\"], axis=1\n",
    "    ).to_csv(\"./raw/small_talk/thank_you/1.csv\", index=False)"
   ]
  },
  {
   "cell_type": "code",
   "execution_count": 7,
   "metadata": {},
   "outputs": [],
   "source": [
    "courses = pd.read_csv(\"./courses.csv\", index_col=0)\n",
    "map = pd.read_csv(\"./map.csv\", index_col=0)\n",
    "rules = pd.read_csv(\"./rules.csv\", index_col=0)\n",
    "services = pd.read_csv(\"./services.csv\", index_col=0)"
   ]
  },
  {
   "cell_type": "code",
   "execution_count": 8,
   "metadata": {},
   "outputs": [],
   "source": [
    "def separate_to_csv(df):\n",
    "    for (intent1, intent2), g in df.groupby([\"intent1\", \"intent2\"]):\n",
    "        path = \"./raw/\"+intent1+\"/\"+intent2\n",
    "        os.makedirs(path, exist_ok=True)\n",
    "        g.drop(\n",
    "            [\"intent1\", \"intent2\"], axis=1\n",
    "        ).to_csv(path+\"/1.csv\", index=False)"
   ]
  },
  {
   "cell_type": "code",
   "execution_count": 9,
   "metadata": {},
   "outputs": [],
   "source": [
    "separate_to_csv(courses)\n",
    "separate_to_csv(map)\n",
    "separate_to_csv(rules)\n",
    "separate_to_csv(services)\n"
   ]
  },
  {
   "cell_type": "code",
   "execution_count": 15,
   "metadata": {},
   "outputs": [],
   "source": [
    "for intent1 in os.listdir(\"./raw\"):\n",
    "    cur_df = pd.DataFrame()\n",
    "    for intent2 in os.listdir(\"./raw/\"+intent1):\n",
    "        for file in os.listdir(\"./raw/\"+intent1+\"/\"+intent2):\n",
    "            file_df = pd.read_csv(\"./raw/\"+intent1+\"/\"+intent2+\"/\"+file)\n",
    "            file_df[\"intent1\"] = intent1\n",
    "            file_df[\"intent2\"] = intent2\n",
    "            cur_df = pd.concat([cur_df, file_df])\n",
    "    cur_df = cur_df.reset_index(drop = True)\n",
    "    cur_df.to_csv(intent1+\".csv\")\n",
    "    "
   ]
  },
  {
   "cell_type": "code",
   "execution_count": null,
   "metadata": {},
   "outputs": [],
   "source": []
  }
 ],
 "metadata": {
  "kernelspec": {
   "display_name": "Python 3",
   "language": "python",
   "name": "python3"
  },
  "language_info": {
   "codemirror_mode": {
    "name": "ipython",
    "version": 3
   },
   "file_extension": ".py",
   "mimetype": "text/x-python",
   "name": "python",
   "nbconvert_exporter": "python",
   "pygments_lexer": "ipython3",
   "version": "3.11.5"
  }
 },
 "nbformat": 4,
 "nbformat_minor": 2
}
