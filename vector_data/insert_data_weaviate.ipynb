{
 "cells": [
  {
   "cell_type": "code",
   "execution_count": null,
   "id": "821a3624-c164-4026-9ca5-b3e22f6487d9",
   "metadata": {},
   "outputs": [],
   "source": [
    "import weaviate\n",
    "import weaviate.classes as wvc\n",
    "import weaviate.classes.config as wvcc\n",
    "import os\n",
    "import pandas as pd\n",
    "import pickle\n",
    "from scipy.spatial import KDTree\n",
    "from tqdm import tqdm"
   ]
  },
  {
   "cell_type": "code",
   "execution_count": null,
   "id": "6012be56-207f-4fb8-8eef-cf48e02e3aaa",
   "metadata": {},
   "outputs": [],
   "source": [
    "client = weaviate.connect_to_local(\n",
    "    port=8080,\n",
    "    grpc_port=50051,\n",
    ")"
   ]
  },
  {
   "cell_type": "code",
   "execution_count": null,
   "id": "3220c03f-a3a5-47c9-bc02-c21f4df1f9b9",
   "metadata": {},
   "outputs": [],
   "source": [
    "client"
   ]
  },
  {
   "cell_type": "code",
   "execution_count": null,
   "id": "508fa7e5-f51b-47eb-9989-3000bc7b1190",
   "metadata": {},
   "outputs": [],
   "source": [
    "from sentence_transformers import SentenceTransformer\n",
    "model = SentenceTransformer('jhgan/ko-sroberta-multitask')"
   ]
  },
  {
   "cell_type": "markdown",
   "id": "49b03095-936b-44ee-a03e-9f4cf7bc668d",
   "metadata": {},
   "source": [
    "# Course Evaluation"
   ]
  },
  {
   "cell_type": "markdown",
   "id": "6f297d05-e21c-4d05-b5a0-d2635a36265f",
   "metadata": {},
   "source": [
    "## DDL"
   ]
  },
  {
   "cell_type": "code",
   "execution_count": null,
   "id": "59892abb-8240-468d-981e-ebf10f7f5696",
   "metadata": {},
   "outputs": [],
   "source": [
    "with open(\"../data/course_evaluations.pkl\", \"rb\") as file:\n",
    "    ce = pickle.load(file)"
   ]
  },
  {
   "cell_type": "code",
   "execution_count": null,
   "id": "9887a3c9-7382-4f3b-bdb7-584051a4b35a",
   "metadata": {},
   "outputs": [],
   "source": []
  },
  {
   "cell_type": "code",
   "execution_count": null,
   "id": "381cf9fe-001b-43e4-9605-124c6bb2b547",
   "metadata": {},
   "outputs": [],
   "source": [
    "'''\n",
    "if (client.collections.exists(\"CourseName\")):\n",
    "  # delete collection \"Article\" - THIS WILL DELETE THE COLLECTION AND ALL ITS DATA\n",
    "  client.collections.delete(\"CourseName\")  # Replace with your collection name\n",
    "if (client.collections.exists(\"ProfessorName\")):\n",
    "  # delete collection \"Article\" - THIS WILL DELETE THE COLLECTION AND ALL ITS DATA\n",
    "  client.collections.delete(\"ProfessorName\")  # Replace with your collection name\n",
    "if (client.collections.exists(\"Course\")):\n",
    "  # delete collection \"Article\" - THIS WILL DELETE THE COLLECTION AND ALL ITS DATA\n",
    "  client.collections.delete(\"Course\")  # Replace with your collection name\n",
    "if (client.collections.exists(\"CourseEvaluation\")):\n",
    "  # delete collection \"Article\" - THIS WILL DELETE THE COLLECTION AND ALL ITS DATA\n",
    "  client.collections.delete(\"CourseEvaluation\")  # Replace with your collection name\n",
    "  '''"
   ]
  },
  {
   "cell_type": "code",
   "execution_count": null,
   "id": "54f9e19d-6e72-404c-9fc6-67a78c7cbb45",
   "metadata": {},
   "outputs": [],
   "source": [
    "client.collections.create(\"CourseName\",\n",
    "                          properties=[\n",
    "                              wvcc.Property(name=\"course_name\", data_type=wvcc.DataType.TEXT)\n",
    "                          ])"
   ]
  },
  {
   "cell_type": "code",
   "execution_count": null,
   "id": "9cfd2411-cfe2-4dcd-b96c-a9ec7fef0ef5",
   "metadata": {},
   "outputs": [],
   "source": [
    "client.collections.create(\"ProfessorName\",\n",
    "                          properties=[\n",
    "                              wvcc.Property(name=\"professor_name\", data_type=wvcc.DataType.TEXT)\n",
    "                          ])\n",
    "                          "
   ]
  },
  {
   "cell_type": "code",
   "execution_count": null,
   "id": "881387e6-6d69-41f3-ada0-3d48af9ab80a",
   "metadata": {},
   "outputs": [],
   "source": [
    "client.collections.create(\"Course\",\n",
    "                         properties=[\n",
    "                             wvcc.Property(name=\"course_name\", data_type=wvcc.DataType.TEXT),\n",
    "                             wvcc.Property(name=\"professor_name\", data_type=wvcc.DataType.TEXT)\n",
    "                         ])"
   ]
  },
  {
   "cell_type": "code",
   "execution_count": null,
   "id": "7cbe75cc-6be8-4f00-9789-d0f07ae53e6f",
   "metadata": {},
   "outputs": [],
   "source": [
    "client.collections.create(\"CourseEvaluation\",\n",
    "                          properties=[\n",
    "                              wvcc.Property(\n",
    "                                  name=\"evaluations\", \n",
    "                                  data_type=wvcc.DataType.TEXT,\n",
    "                              ),\n",
    "                              wvcc.Property(\n",
    "                                  name=\"course_name\", \n",
    "                                  data_type=wvcc.DataType.TEXT,\n",
    "                              ),\n",
    "                              wvcc.Property(\n",
    "                                  name=\"professor_name\", \n",
    "                                  data_type=wvcc.DataType.TEXT,\n",
    "                              )\n",
    "                          ],\n",
    "                          references=[\n",
    "                              wvcc.ReferenceProperty(\n",
    "                                  name=\"course\",\n",
    "                                  target_collection=\"Course\"\n",
    "                              ),\n",
    "                          ])"
   ]
  },
  {
   "cell_type": "code",
   "execution_count": null,
   "id": "89b09ed4-2b5d-4250-ae65-11ef245442a6",
   "metadata": {},
   "outputs": [],
   "source": []
  },
  {
   "cell_type": "code",
   "execution_count": null,
   "id": "e8f07119-ed5d-4907-8281-f3f607c08575",
   "metadata": {},
   "outputs": [],
   "source": []
  },
  {
   "cell_type": "markdown",
   "id": "311925aa-2e7d-44c9-b818-33482d0fd8af",
   "metadata": {},
   "source": [
    "## Put Data into Collection"
   ]
  },
  {
   "cell_type": "code",
   "execution_count": null,
   "id": "90cd8cca-1d9a-4d92-bc86-8c66a68f739c",
   "metadata": {},
   "outputs": [],
   "source": [
    "course_name = client.collections.get(\"CourseName\")\n",
    "professor_name = client.collections.get(\"ProfessorName\")\n",
    "course = client.collections.get(\"Course\")\n",
    "course_evaluation = client.collections.get(\"CourseEvaluation\")"
   ]
  },
  {
   "cell_type": "code",
   "execution_count": null,
   "id": "6e832605-269c-4de6-a12e-a1f327401057",
   "metadata": {},
   "outputs": [],
   "source": [
    "for d in tqdm(ce):\n",
    "    cn_query = course_name.query.bm25(query=d[\"name\"])\n",
    "    if cn_query.objects == []:\n",
    "        course_name_id = course_name.data.insert(\n",
    "            {\n",
    "                \"course_name\": d[\"name\"]\n",
    "            },\n",
    "            vector=model.encode(d[\"name\"]).tolist()\n",
    "        )\n",
    "    else:\n",
    "        course_name_id = cn_query.objects[0].uuid\n",
    "\n",
    "    pf_query = professor_name.query.bm25(query=d[\"prof\"])\n",
    "    if pf_query.objects == []:\n",
    "        professor_name_id = professor_name.data.insert(\n",
    "            {\n",
    "                \"professor_name\": d[\"prof\"]\n",
    "            },\n",
    "            vector=model.encode(d[\"prof\"]).tolist()\n",
    "        )\n",
    "    else:\n",
    "        professor_name_id = pf_query.objects[0].uuid\n",
    "        \n",
    "    course_id = course.data.insert( \n",
    "        properties={\n",
    "            \"course_name\": d[\"name\"],\n",
    "            \"professor_name\": d[\"prof\"]\n",
    "        }    \n",
    "    )\n",
    "    for e in d[\"eval\"]:\n",
    "        course_evaluation_id = course_evaluation.data.insert(\n",
    "            properties={\n",
    "                \"evaluations\": e,\n",
    "                \"course_name\": d[\"name\"],\n",
    "                \"professor_name\": d[\"prof\"]\n",
    "            },\n",
    "            references={\n",
    "                \"course\": course_id\n",
    "            },\n",
    "            vector=model.encode(e).tolist()\n",
    "        )\n",
    "    "
   ]
  },
  {
   "cell_type": "code",
   "execution_count": null,
   "id": "bfcb710e-75d1-4cf8-8ae2-364333804c8a",
   "metadata": {},
   "outputs": [],
   "source": []
  },
  {
   "cell_type": "markdown",
   "id": "cbc1d176-167f-4a53-ae66-56e59046dba1",
   "metadata": {
    "jp-MarkdownHeadingCollapsed": true
   },
   "source": [
    "## Queries"
   ]
  },
  {
   "cell_type": "code",
   "execution_count": null,
   "id": "11281f2d-6532-4979-902d-2db7b513eff6",
   "metadata": {},
   "outputs": [],
   "source": []
  },
  {
   "cell_type": "markdown",
   "id": "c3db2924-36e0-4b4d-9452-39e1bb1278b3",
   "metadata": {},
   "source": [
    "# Address Location"
   ]
  },
  {
   "cell_type": "markdown",
   "id": "814d5d85-5c58-4448-828d-7f203422631d",
   "metadata": {},
   "source": [
    "## DDL"
   ]
  },
  {
   "cell_type": "code",
   "execution_count": null,
   "id": "504e9908-a96e-4c57-880a-c9d6cc533049",
   "metadata": {},
   "outputs": [],
   "source": [
    "import json"
   ]
  },
  {
   "cell_type": "code",
   "execution_count": null,
   "id": "82ae8978-1f33-4ea2-8978-3ea6e4c58e23",
   "metadata": {},
   "outputs": [],
   "source": [
    "with open(\"../data/address_data.json\") as f:\n",
    "    address_location_json = json.load(f)"
   ]
  },
  {
   "cell_type": "code",
   "execution_count": null,
   "id": "8e624546-9d19-4bbf-a6e9-f342763e8f74",
   "metadata": {},
   "outputs": [],
   "source": [
    "address_location_json;"
   ]
  },
  {
   "cell_type": "code",
   "execution_count": null,
   "id": "17ffb7f1-3923-4121-8b8c-c3cd5e22eb12",
   "metadata": {},
   "outputs": [],
   "source": [
    "if (client.collections.exists(\"AddressLocation\")):\n",
    "  client.collections.delete(\"AddressLocation\")  # Replace with your collection name"
   ]
  },
  {
   "cell_type": "code",
   "execution_count": null,
   "id": "3e2a9975-90e4-44f9-a313-02db93c834cf",
   "metadata": {},
   "outputs": [],
   "source": [
    "client.collections.create(\"AddressLocation\",\n",
    "                          properties=[\n",
    "                              wvcc.Property(name=\"department_name\", data_type=wvcc.DataType.TEXT)\n",
    "                          ])"
   ]
  },
  {
   "cell_type": "code",
   "execution_count": null,
   "id": "a27b3672-c1b6-4a98-8b4f-10f55c41c7ae",
   "metadata": {},
   "outputs": [],
   "source": [
    "address_location = client.collections.get(\"AddressLocation\")"
   ]
  },
  {
   "cell_type": "code",
   "execution_count": null,
   "id": "6eb18f46-d1e0-44e2-89f8-f0049b69cdd8",
   "metadata": {},
   "outputs": [],
   "source": [
    "for d in tqdm(address_location_json):\n",
    "    address_location.data.insert(\n",
    "        { \"department_name\": d[\"부서명\"] },\n",
    "        vector = model.encode(d['부서명']).tolist()\n",
    "    )"
   ]
  },
  {
   "cell_type": "code",
   "execution_count": null,
   "id": "9a4c8532-7110-4eb6-9136-2debd7b69338",
   "metadata": {},
   "outputs": [],
   "source": [
    "near_vector = model.encode(\"컴공\").tolist()\n",
    "response = address_location.query.near_vector(\n",
    "    near_vector=near_vector,\n",
    "    limit=3,\n",
    ")"
   ]
  },
  {
   "cell_type": "code",
   "execution_count": null,
   "id": "d9eceba2-dfa3-4ae3-af45-051dcfea0679",
   "metadata": {},
   "outputs": [],
   "source": [
    "response"
   ]
  },
  {
   "cell_type": "code",
   "execution_count": null,
   "id": "2561f06d-2f2b-4792-ad22-5133590eb627",
   "metadata": {},
   "outputs": [],
   "source": []
  },
  {
   "cell_type": "markdown",
   "id": "6c0fd5a3-ab4b-47f3-a3db-3bc88bf37817",
   "metadata": {},
   "source": [
    "# Location"
   ]
  },
  {
   "cell_type": "code",
   "execution_count": null,
   "id": "bb10f4bf-cba5-4737-b1bc-5dae5c613178",
   "metadata": {},
   "outputs": [],
   "source": [
    "import json\n",
    "with open(\"../data/building_data.json\") as f:\n",
    "    buildings_dict = json.load(f)"
   ]
  },
  {
   "cell_type": "code",
   "execution_count": null,
   "id": "d6d9a6b9-08e5-4ecf-94e1-d3251e995717",
   "metadata": {},
   "outputs": [],
   "source": [
    "if (client.collections.exists(\"Buildings\")):\n",
    "  client.collections.delete(\"Buildings\")  # Replace with your collection name"
   ]
  },
  {
   "cell_type": "code",
   "execution_count": null,
   "id": "423bc40f-22c5-467d-bfec-e738e17dbf07",
   "metadata": {},
   "outputs": [],
   "source": [
    "client.collections.create(\"Buildings\",\n",
    "                          properties=[\n",
    "                              wvcc.Property(name=\"primary_building_name\", data_type=wvcc.DataType.TEXT),\n",
    "                              wvcc.Property(name=\"building_name\", data_type=wvcc.DataType.TEXT),\n",
    "                              wvcc.Property(name=\"coordinates\", data_type=wvcc.DataType.GEO_COORDINATES)\n",
    "                          ])"
   ]
  },
  {
   "cell_type": "code",
   "execution_count": null,
   "id": "c0eb12ab-add8-407b-b42d-25383efe6625",
   "metadata": {},
   "outputs": [],
   "source": [
    "buildings = client.collections.get(\"Buildings\")"
   ]
  },
  {
   "cell_type": "code",
   "execution_count": null,
   "id": "2fef946a-135a-4ddf-b6b3-1c462c9509d9",
   "metadata": {},
   "outputs": [],
   "source": [
    "for d in tqdm(buildings_dict):\n",
    "    building_name = \";\".join(d['건물명'])\n",
    "    buildings.data.insert(\n",
    "        { \n",
    "            \"primary_building_name\": d['건물명'][0],\n",
    "            \"building_name\": building_name,\n",
    "            \"coordinates\": {\n",
    "                \"latitude\": d['위치']['위도'],\n",
    "                \"longitude\": d['위치']['경도']\n",
    "            }\n",
    "        },\n",
    "        vector = model.encode(building_name).tolist()\n",
    "    )"
   ]
  },
  {
   "cell_type": "code",
   "execution_count": null,
   "id": "cf28364f-c04a-4ae8-8d86-a98e3202e3cd",
   "metadata": {},
   "outputs": [],
   "source": [
    "near_vector = model.encode(\"정문\").tolist()\n",
    "response = buildings.query.near_vector(\n",
    "    near_vector=near_vector,\n",
    "    limit=1,\n",
    ")\n",
    "dict(response.objects[0].properties['coordinates'])"
   ]
  },
  {
   "cell_type": "code",
   "execution_count": null,
   "id": "ba554675-4093-4e5e-981f-21e1b4335fb2",
   "metadata": {},
   "outputs": [],
   "source": [
    "for k in client.collections.list_all():\n",
    "    print(k)"
   ]
  },
  {
   "cell_type": "code",
   "execution_count": null,
   "id": "52241aff-482e-4f4a-a2c1-a0d7c013c20e",
   "metadata": {},
   "outputs": [],
   "source": []
  }
 ],
 "metadata": {
  "kernelspec": {
   "display_name": "Python 3 (ipykernel)",
   "language": "python",
   "name": "python3"
  },
  "language_info": {
   "codemirror_mode": {
    "name": "ipython",
    "version": 3
   },
   "file_extension": ".py",
   "mimetype": "text/x-python",
   "name": "python",
   "nbconvert_exporter": "python",
   "pygments_lexer": "ipython3",
   "version": "3.10.12"
  }
 },
 "nbformat": 4,
 "nbformat_minor": 5
}
